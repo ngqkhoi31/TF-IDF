{
 "cells": [
  {
   "cell_type": "code",
   "execution_count": 1,
   "metadata": {},
   "outputs": [
    {
     "name": "stderr",
     "output_type": "stream",
     "text": [
      "C:\\Users\\khoiq\\AppData\\Local\\Temp\\ipykernel_12852\\3442600060.py:6: TqdmWarning: IProgress not found. Please update jupyter and ipywidgets. See https://ipywidgets.readthedocs.io/en/stable/user_install.html\n",
      "  from tqdm.autonotebook import tqdm\n"
     ]
    }
   ],
   "source": [
    "import numpy as np\n",
    "import sklearn\n",
    "import underthesea\n",
    "import json\n",
    "import os\n",
    "from tqdm.autonotebook import tqdm\n",
    "import glob\n",
    "from pprint import pprint\n",
    "import nltk\n",
    "from underthesea import word_tokenize\n",
    "from sklearn.decomposition import TruncatedSVD\n",
    "import math\n",
    "import sklearn\n",
    "import sklearn.metrics"
   ]
  },
  {
   "cell_type": "code",
   "execution_count": 17,
   "metadata": {},
   "outputs": [
    {
     "name": "stdout",
     "output_type": "stream",
     "text": [
      "{'title': 'Lập Trình Viên Javascript', 'salary': '25 - 30 triệu', 'level': 'Nhân viên', 'exp': '3 năm', 'quantity': '3 người', 'form': 'Toàn thời gian', 'address': 'Hà Nội', 'company': {'name': 'CÔNG TY CỔ PHẦN TECHBANK SOFTWARE', 'address': 'tầng 3, tòa nhà Tân Hồng Hà, 317 Trường Chinh, Quận Thanh Xuân, Hà nội', 'url': 'https://www.topcv.vn/cong-ty/cong-ty-co-phan-techbank-software/113104.html'}, 'description': 'Mô tả công việc\\n\\nTham gia vào dự án với yêu cầu từ khách hàng Nhật Bản;Xây dựng thiết kế phát triển những phần mềm mới dựa trên nền tảng các sản phẩm của Microsoft (SharePoint, Translation API, Azure..) Bảo trì, nâng cấp các sản phẩm có sẵn (Hệ thống liên quan đến quản lý dữ liệu của các trường Đại học ở Nhật Bản)\\n\\n\\n\\nYêu cầu ứng viên\\n\\nKhả năng tiếng Nhật tương đương N5 trở lênYêu thích công việc lập trình ở một trong các ngôn ngữ Java/ Javascript phiên bản 8...Có kinh nghiệm làm các dự án offshore là một lợi thếSẵn sàng học hỏi tiếp thu lĩnh vực mới. Chịu khó và chăm chỉ, kỷ luật trong công việcƯu tiên ứng viên đã từng làm các dự án NhậtSẵn sàng on-site tại Nhật Bản (bắt buộc)\\n\\n\\n\\nQuyền lợi\\n\\nLương thỏa thuận theo năng lực thực tế của ứng viên.Trong thời gian onsite tại Nhật Bản, ngoài lương nhận tại Việt Nam, trợ cấp sinh hoạt và toàn bộ vé máy bay, chi phí visa, đi lại, nhà trọ do công ty chi trảThưởng lễ tết, thưởng tháng lương thứ 13, thưởng nhân viên xuất sắc quý, năm, nhân viên tiêu biểu đi du lịch Nhật Bản.Nghỉ theo lịch công ty, nghỉ theo lịch khách hàng Nhật...Văn phòng làm việc tiện ích: Miễn phí trà, coffee tại khu vực ăn uống của công ty.Teabreak vào các ngày T2-T4-T6Các hoạt động sôi nổi: Như hoạt động team building kết nối đội nhóm theo quy định \\n\\n\\n\\nĐịa điểm làm việc\\n\\n- Hà Nội: 2 Vương Thừa Vũ, Quận Thanh Xuân, Hà Nội, Thanh Xuân\\n- Hà Nội: Tòa nhà Tân Hồng Hà, 317 đường Trường Chinh, Hà Nội, Đống Đa\\n\\n\\n\\nThời gian làm việc\\n\\nThứ 2 - Thứ 6 (từ 08:00 đến 17:30)\\nLàm việc theo giờ hành chính, giờ Việt Nam\\n\\n\\n\\nCách thức ứng tuyển\\n\\nỨng viên nộp hồ sơ trực tuyến bằng cách bấm Ứng tuyển ngay dưới đây.'}\n"
     ]
    }
   ],
   "source": [
    "#duong dan toi thu muc chua tep json\n",
    "directory = r\"D:\\University\\Fourth-year Collage\\Clould Computing\\AI_Search_TF IDF\\Test TF_IDF\\dataset\"\n",
    "\n",
    "#danh sanh de luu tru cac muc tu cac tap json\n",
    "items = []\n",
    "\n",
    "#duyet qua tat ca cac tep co duoi json trong thu muc\n",
    "for filename in os.listdir(directory):\n",
    "    if filename.endswith(\".json\"):\n",
    "        filepath = os.path.join(directory, filename)\n",
    "        with open(filepath, \"r\", encoding=\"utf-8\") as f:\n",
    "            items += json.load(f)\n",
    "\n",
    "#kiem tra va in\n",
    "if items:\n",
    "    print(items[0])\n",
    "else:\n",
    "    print(\"No items found.\")"
   ]
  },
  {
   "cell_type": "code",
   "execution_count": 22,
   "metadata": {},
   "outputs": [],
   "source": [
    "def word_tokenizer_item(item):\n",
    "    '''\n",
    "    Word tokenize for all field in a item\n",
    "    '''\n",
    "    for key in item.keys():\n",
    "        if isinstance (item[key], str):\n",
    "           item[key] = word_tokenize(item[key], format='text')\n",
    "    return item\n"
   ]
  },
  {
   "cell_type": "code",
   "execution_count": 23,
   "metadata": {},
   "outputs": [],
   "source": [
    "def count_unigram(text):\n",
    "    '''\n",
    "    Count appearance number for each vocabulary\n",
    "    '''\n",
    "    counter = {}\n",
    "    words = text.split()\n",
    "    vocabs = set(words)\n",
    "    for vocab in vocabs:\n",
    "        if not vocab.isdigit():\n",
    "            counter[vocab] = words.count(vocab)\n",
    "    return counter\n"
   ]
  },
  {
   "cell_type": "code",
   "execution_count": 24,
   "metadata": {},
   "outputs": [],
   "source": [
    "def combine_metadata(item):\n",
    "    newItem = {}\n",
    "    newItem['name'] = item['title']\n",
    "    newItem['desc'] = \"\"\n",
    "    for key in item.keys():\n",
    "        newItem[\"desc\"] += f\" . {item[key]}\"\n",
    "    return newItem\n",
    "    \n",
    "def count_word_in_dataset(items):\n",
    "    '''\n",
    "     Thống kê số lần xuất hiện từng từ trên toàn bộ dataset\n",
    "    '''   \n",
    "    nameCounter = {}\n",
    "    descCounter = {}\n",
    "    for item in items:\n",
    "        for word in item['unigram_name'].keys():\n",
    "            if word in nameCounter.keys():\n",
    "                nameCounter[word] += 1\n",
    "            else:\n",
    "                nameCounter[word] = 1\n",
    "        for word in item['unigram_desc'].keys():\n",
    "            if word in descCounter.keys():\n",
    "                descCounter[word] += 1\n",
    "            else:\n",
    "                descCounter[word] = 1\n",
    "    return nameCounter, descCounter\n"
   ]
  },
  {
   "cell_type": "code",
   "execution_count": 25,
   "metadata": {},
   "outputs": [
    {
     "name": "stderr",
     "output_type": "stream",
     "text": [
      "  0%|          | 0/3634 [00:00<?, ?it/s]"
     ]
    },
    {
     "name": "stderr",
     "output_type": "stream",
     "text": [
      "100%|██████████| 3634/3634 [07:36<00:00,  7.97it/s]\n"
     ]
    }
   ],
   "source": [
    "newItems = []\n",
    "for item in tqdm(items):\n",
    "    newItem = word_tokenizer_item(item)\n",
    "    newItem = combine_metadata(newItem)\n",
    "    newItem['unigram_name'] = count_unigram(newItem['name'])\n",
    "    newItem['unigram_desc'] = count_unigram(newItem['desc'])\n",
    "    newItems.append(newItem)\n"
   ]
  },
  {
   "cell_type": "code",
   "execution_count": 26,
   "metadata": {},
   "outputs": [],
   "source": [
    "def tfidf(doc_len, corpus_len, doc_counter, corpus_counter, k=2):\n",
    "    vector_len = len(corpus_counter)\n",
    "    tfidf_vector = np.zeros((vector_len,))\n",
    "    for i, key in enumerate(corpus_counter.keys()):\n",
    "        if key in doc_counter.keys():\n",
    "            tf = (k+1)*doc_counter[key]/(k+doc_counter[key])\n",
    "            idf = math.log((corpus_len+1)/(corpus_counter[key]))\n",
    "            tfidf_vector[i] = tf*idf\n",
    "    return tfidf_vector\n"
   ]
  },
  {
   "cell_type": "code",
   "execution_count": 27,
   "metadata": {},
   "outputs": [
    {
     "name": "stderr",
     "output_type": "stream",
     "text": [
      "100%|██████████| 3634/3634 [01:22<00:00, 43.85it/s]\n"
     ]
    }
   ],
   "source": [
    "nameCounter, descCounter = count_word_in_dataset(newItems)\n",
    "tfidf_vectors = []\n",
    "corpus_len = len(newItems)\n",
    "for item in tqdm(newItems):\n",
    "    doc_len = len(item['desc'])\n",
    "    tfidf_vectors.append(\n",
    "        tfidf(doc_len, corpus_len, item['unigram_desc'], descCounter)\n",
    "    )\n",
    "tfidf_vectors = np.array(tfidf_vectors)# dam bao tfidf_vector la mang 2d"
   ]
  },
  {
   "cell_type": "code",
   "execution_count": 28,
   "metadata": {},
   "outputs": [],
   "source": [
    "svd = TruncatedSVD(n_components=256)\n",
    "svd.fit(tfidf_vectors)\n",
    "svd_tfidf_vexter = svd.transform(tfidf_vectors)"
   ]
  },
  {
   "cell_type": "code",
   "execution_count": 29,
   "metadata": {},
   "outputs": [],
   "source": [
    "def process_query(query, descCounter, corpus_len):\n",
    "    # Ma hoa truy van\n",
    "    tokenized_query = word_tokenize(query, format='text')\n",
    "    \n",
    "    # Dem unigram trong truy van\n",
    "    query_unigram = count_unigram(tokenized_query)\n",
    "    \n",
    "    # Tinh vector tfidf cho truy van\n",
    "    query_vector = tfidf(len(tokenized_query.split()), corpus_len, query_unigram, descCounter)\n",
    "    \n",
    "    return query_vector"
   ]
  },
  {
   "cell_type": "code",
   "execution_count": 31,
   "metadata": {},
   "outputs": [
    {
     "name": "stdout",
     "output_type": "stream",
     "text": [
      "3579 0.21415771225624897\n",
      "IOS DEVELOPER\n",
      " . iOS Developer . ₫ 12-25_Tr / Tháng . not found . 1 – 3 năm . not found . Việc_làm fulltime . Quận Thanh_Xuân , Hà_Nội . {'name': 'Apero Technologies Group', 'address': 'Quận Thanh Xuân, Hà Nội\\xa0 ', 'url': 'https://glints.com/vn/companies/apero-technologies-group/6c05b5e8-1a65-4eb1-bb3e-52d33040b725'} . Phát_triển ứng_dụng , module ứng_dụng iOS theo phân_phối của Team LeaderTham_gia phân_tích , thiết_kế kiến_trúc , luồng nghiệp_vụ của ứng_dụng di_động theo phân_phối của team leader . Phối_hợp với Mid Level / Senior Developer thực_hành code reviewPhối_hợp với các team liên_quan vận_hành dự_án theo quy_trình . Tham_gia hướng_dẫn , đào_tạo member mớiĐược tự_do nghiên_cứu công_nghệ mới và đề_xuất ý_tưởng sáng_tạo để nâng cao chất_lượng dự_án \n",
      "\n",
      "\n",
      "2 0.1605815783828169\n",
      "FULLSTACK MID LEVEL\n",
      " . Fullstack Mid Level . 1,000 - 2,500 USD . Nhân_viên . 3 năm . 1 người . Toàn thời_gian . Hồ_Chí_Minh . {'name': 'CÔNG TY TNHH AFFINA VIỆT NAM', 'address': 'B7 Khu nhà ở An Phú New City, đường Nguyễn Hoàng, Phường An Phú, Thành phố Thủ Đức, Thành phố Hồ Chí Minh, Việt Nam', 'url': 'https://www.topcv.vn/cong-ty/cong-ty-tnhh-affina-viet-nam/90517.html'} . Mô_tả công_việc Tiếp_nhận yêu_cầu , tham_gia phân_tích xây_dựng tính_năng mở_rộng và giải_pháp mớiNghiên cứu ứng_dụng công_nghệ mới ( mã nguồn mở ) Quản_lý phân_chia và theo_dõi công_việc của các đội nhóm Giám_sát và hỗ_trợ đảm_bảo tiến_độ chung của dự_án Báo_cáo trực_tiếp công_việc cho cấp quản_lý Yêu_cầu ứng_viên Trình_độ học_vấn - Tốt_nghiệp chuyên_ngành CNTT_hệ Đại_học và các ngành liên_quan ; Yêu_cầu kinh_nghiệmÍt nhất 3 năm kinh_nghiệm lập_trình ở vị_trí fullstack ; Ít_nhất 1 năm kinh_nghiệm quản_lý đội nhóm ; Kinh_nghiệm sử_dụng ngôn_ngữ lập_trình Java và React ; Kinh_nghiệm sử_dụng Mysql / Mariadb / PostgreSQL , MongoDB / Cassandra / Hadoop ; Am_hiểu về lập_trình POP , OOP , TDD ; Am_hiểu về các quy_trình phát_triển phần_mềm ( V-model , Spirit , Scrum_Agile , .. ) Yêu_cầu kỹ_năng - Khả_năng tư_duy logic và giải_quyết vấn_đề ; - Có khả_năng quản_lý đội nhóm ; - Chịu được áp_lực cao ; Quyền_lợi - Lương : thỏa_thuận theo năng_lực ; - Thử việc 2 tháng full lương ; - Hđld đầy_đủ BHXH ; Khám_sức khẻo định_kỳ & thẻ BH_sức khỏe cá_nhân . ; Lương tháng 13 ; Phép 14 ngày trong năm và nghĩ lễ theo quy_định NN. - Thiết_bị làm_việc , môi_trường trẻ trung_năng_động và lộ_trình thăng_tiến - Thời_gian làm_việc : Thứ_2-6 ( 8 g30 - 17 g30 ) . / Địa_điểm làm_việc - Hồ_Chí_Minh : B7 An_Phú New_City , P.An_Phú , Tp. Thủ_Đức , Quận 2 Thời_gian làm_việc Thứ 2 - Thứ 6 ( từ 08 : 30 đến 17 : 30 ) Cách_thức ứng_tuyển Ứng_viên nộp hồ_sơ trực_tuyến bằng cách bấm Ứng_tuyển ngay dưới đây . \n",
      "\n",
      "\n",
      "1015 0.10755364076462984\n",
      "JUNIOR ANDROID DEVELOPER\n",
      " . Junior Android Developer . 12 - 22 triệu . Nhân_viên . 1 năm . 1 người . Toàn thời_gian . Hà_Nội . {'name': 'Apero Technologies Group', 'address': 'Trụ sở chính tại Hà Nội: Toà nhà Golden West, số 2 Lê Văn Thiêm, Nhân Chính, Thanh Xuân - Chi nhánh tại Hồ Chí Minh: Tòa Paragon, Số 3 Nguyễn Lương Bằng, Phường Tân Phú, Quận 7', 'url': 'https://www.topcv.vn/cong-ty/apero-technologies-group/118024.html'} . Mô_tả công_việc - Phát_triển ứng_dụng , module ứng_dụng Android theo phân_phối của Team_Leader . - Tham_gia phân_tích , thiết_kế kiến_trúc , luồng nghiệp_vụ của ứng_dụng di_động theo phân_phối của teamleader . - Phối_hợp với Mid Level / Senior Developer thực_hành code review . - Phối_hợp với các team liên_quan vận_hành dự_án theo quy_trình . - Tham_gia hướng_dẫn , đào_tạo member mới . - Được phép tự_do nghiên_cứu công_nghệ mới , đề_xuất ý_tưởng đóng_góp vào dự_án . Yêu_cầu ứng_viên - Có kinh_nghiệm lập_trình Android tối_thiểu 6 tháng . - Nắm được khái_niệm Android cơ_bản ( Activity / Service / View_System , Resource , Storage , Thread_Handling ) . - Có kinh_nghiệm sử_dụng Room , Retrofit , Firebase - Hiểu & sử_dụng mô_hình kiến_trúc MVVM. Biết Clean là một lợi_thế - Hiểu_biết Design_Pattern là một lợi_thế . - Có khả_năng dựng_module độc_lập là một lợi_thế . - Am hiểu Agile_Scrum là một lợi_thế . - Đam_mê , chủ_động công_việc , có kỹ_năng làm_việc nhóm , làm_việc độc_lập . - Đam_mê phát_triển sản_phẩm . - Có kỹ_năng làm_việc nhóm / theo quy_trình là một lợi_thế . Quyền_lợi - Mức lương hấp_dẫn từ 12.000.000 - 22.000.000_VNĐ. - Cơ_chế đãi_ngộ tập_trung vào phát_triển nhân_tài và xây_dựng theo concept gia_tốc : Nhân_sự Top_đầu tăng lương gấp 6 lần nhân_sự Top dưới . - Thưởng 1 - 5 tháng lương 1 năm với nhân_sự Top_đầu . - Bổ_nhiệm ngay khi có chiến_công đặc_biệt . - Tham_gia đầy_đủ các chế_độ BHXH , BHYT , BHTN. - Các gói bảo_hiểm ngoài BHXH : Bảo_hiểm_PTI , khám sức khỏe_định_kỳ hàng năm - Văn_hóa làm_việc GenZ , môi_trường làm_việc trẻ_trung , sáng_tạo , Dám nghĩ - dám làm , trà đá , bàn_tròn , ném đá sếp , áp_dụng triệt_để văn_hóa 6K_startup , TSB3C . - Thực_chiến cùng quản_lý , chuyên_gia từ các tập_đoàn lớn : Topica , VNG , Samsung , ... - Du_lịch hàng năm , team building , tea break hàng tuần Địa_điểm làm_việc - Hà_Nội : Số 2 Lê_Văn_Thiêm , Thanh_Xuân Cách_thức ứng_tuyển Ứng_viên nộp hồ_sơ trực_tuyến bằng cách bấm Ứng_tuyển ngay dưới đây . \n",
      "\n",
      "\n",
      "41 0.08637995926592189\n",
      "JAVA DEVELOPER ( MID / SENIOR LEVEL )\n",
      " . Java Developer ( Mid / Senior Level ) . Tới 40 triệu . Nhân_viên . 3 năm . 3 người . Toàn thời_gian . Hà_Nội . {'name': 'TECHVIFY SOFTWARE., JSC', 'address': 'HANOI (HEADQUARTER) F2-3 Thanh Dong Building, 19 Lane To Huu Str, Nam Tu Liem Dist, Hanoi, Vietnam', 'url': 'https://www.topcv.vn/cong-ty/techvify-software-jsc/107493.html'} . Mô_tả công_việc −_Collaborate with_architects and_product owners to define software_requirements and_specifications . − Write_clean , maintainable , and_efficient Java_code , following best_practices and coding standards . − Perform code reviews to ensure code quality , consistency , and_adherence to design patterns . −_Troubleshoot and_debug complex issues in existing_applications and_provide effective solutions . − Optimize application performance , scalability , and_responsiveness . − Collaborate with cross-functional teams , including front-end developers , testers , and_product managers , to deliver high-quality software products . − Contribute to the software development lifecycle , including requirements analysis , design , implementation , testing , and_deployment . − Participate in Agile development processes , including sprint planning , stand-up meetings , and_retrospectives . Yêu_cầu ứng_viên − Bachelor's degree in Computer_Science , Computer_Engineering , or a related field . − Proven_experience as a Java_developer , with a minimum of 3 yearsin middle role , and 5 years in senior role . − Strong proficiency in Java , including experience with Java 8 or later . − Proficiency in Java frameworks such as_Spring and_Hibernate . − Experience_with RESTful_web services_and API_development . − Solid understanding of_object-oriented programming ( OOP ) principles_and design patterns . − Familiarity with front-end technologies ( HTML , CSS , JavaScript ) and_integration with Java_applications . − Knowledge_of database systems , SQL , and NoSQL_databases . − Proficiency in version control systems , such as Git . − Excellent_problem-solving and debugging skills . − Strong_communication and interpersonal skills . − Fluent in English , both_written and_spoken . − Agile development experience is a_plus . − Certifications in Java or related technologies are a_plus . Quyền_lợi −_Working & growing with a_passionate , young , and_talented team . − Premium_Health Insurance TECHVIFY_Care . −_Salary : Up to_40.000.000 VND_Gross − 13 months ’ salary per year . − Evaluate salary annually . −_Sponsor and_encourage staff to study courses by covering tuition fee , such as Udemy , Coursera . Địa_điểm làm_việc - Hà_Nội : 19 Tố_Hữu , Nam Từ_Liêm , HN , Nam Từ_Liêm Thời_gian làm_việc Thứ 2 - Thứ 6 ( từ 08 : 30 đến 17 : 30 ) Cách_thức ứng_tuyển Ứng_viên nộp hồ_sơ trực_tuyến bằng cách bấm Ứng_tuyển ngay dưới đây . \n",
      "\n",
      "\n",
      "849 0.07949886197211793\n",
      "BUSINESS ANALYST_ERP ( MID / SENIOR )\n",
      " . Business Analyst_ERP ( Mid / Senior ) . Tới 30 triệu . Nhân_viên . 3 năm . 1 người . Toàn thời_gian . Hà_Nội . {'name': 'Công ty Cổ Phần Công Nghệ ITG', 'address': 'Tầng 14 tòa nhà Lilama 10, số 56 Tố Hữu, Hà Nội', 'url': 'https://www.topcv.vn/cong-ty/cong-ty-co-phan-cong-nghe-itg/55281.html'} . Mô_tả công_việc Nghiệp_vụ - Khảo_sát , thu_thập yêu_cầu , phạm_vi và thống_nhất với khách_hàng - Phân_tích và xác_định phạm_vi yêu_cầu nghiệp_vụ , yêu_cầu chức_năng sản_phẩm với khách_hàng - Xây_dựng , phát_triển tài_liệu mô_tả yêu_cầu người dùng , tài_liệu đặc_tả chức_năng hệ_thống - Thống_nhất nghiệp_vụ với khách_hàng , rà_soát và đánh_giá sản_phẩm trước khi chuyển_giao cho khách_hàng - Tham_gia bảo_trì , phát_triển tính_năng , nâng_cấp hệ_thống ... Quản_lý - Lập kế_hoạch và điều_phối hiệu_quả công_việc của nhóm - Dẫn_dắt , đào_tạo , quản_lý và phát_triển các thành_viên trong nhóm theo định_hướng phát_triển chung của Công_ty . Yêu_cầu ứng_viên - Tốt_nghiệp đại_học chuyên_ngành có liên_quan như : Kinh_tế , Quản_trị , Kế_toán , Kiểm_toán , Tài_chính , Công_nghệ_thông_tin , Hệ_thống thông_tin ... - Hiểu rõ về quy_trình phát_triển phần_mềm , quy_trình triển_khai Dự_án công_nghệ_thông_tin - Sử_dụng tốt các công_cụ phân_tích , xây_dựng sơ_đồ nghiệp_vụ cơ_bản . Có khả_năng mô_hình và khái_quát hóa các vấn_đề trong hệ_thống ERP. - Hiểu một trong các hệ_quản_trị cơ_sở_dữ_liệu sau : PostgreSQL , Oracle , SQL_Server , MySQL . Kỹ_năng : - Kỹ_năng giao_tiếp và truyền_đạt tốt - Có kỹ_năng xử_lý tình_huống nhanh_nhẹn , linh_hoạt và tích_cực . - Có kỹ_năng thuyết_trình , tư_vấn và thuyết_phục tốt . - Có kỹ_năng quản_lý đội / nhóm , quản_lý tiến_độ công_việc Kinh_nghiệm ở vị_trí tương_đương : Có từ 3 năm KN triển_khai ERP , nắm nghiệp_vụ kế_toán chi_tiết Tố_chất / năng_khiếu : Yêu nghề , xử_lý công_việc linh_hoạt . Quyền_lợi - Mức lương : upto 30 tr ( thỏa_thuận theo năng_lực và kinh_nghiệm ) , review lương 2 lần / năm - Chính_sách , chế_độ lao_động : BHXH , BHYT , BHTN , ... - Lương tháng 13 - Chế_độ phúc_lợi : lễ_tết , cưới , ốm_đau , sinh_nhật , thưởng nhân_viên xuất_sắc tháng , quý , năm , nghỉ_mát 1 lần / năm ... - Môi_trường làm_việc thân_thiện , năng_động , phát_triển kiến_thức về quản_trị doanh_nghiệp , quản_trị sản_xuất , nhà_máy thông_minh ... - Được tham_gia nhiều hoạt_động văn_hóa , thể_thao , giải_trí của Công_ty Địa_điểm làm_việc - Hà_Nội : Tòa Lilama 10 , 56 Tố_Hữu , Nam Từ_Liêm Thời_gian làm_việc Thứ 2 - Thứ 6 ( từ 08 : 00 đến 17 : 00 ) Cách_thức ứng_tuyển Ứng_viên nộp hồ_sơ trực_tuyến bằng cách bấm Ứng_tuyển ngay dưới đây . \n",
      "\n",
      "\n",
      "811 0.07026688805171385\n",
      "THỰC_TẬP SINH NODEJS\n",
      " . Thực_Tập Sinh Nodejs . Tới 5 triệu . Thực_tập sinh . Không yêu_cầu kinh_nghiệm . 5 người . Thực_tập . Hà_Nội . {'name': 'CÔNG TY TNHH MONSTARLAB VIỆT NAM', 'address': 'Tầng 4 tháp C tòa nhà Golden Palace, đường Mễ Trì, Q.nam Từ Liêm,Hà Nội', 'url': 'https://www.topcv.vn/cong-ty/cong-ty-tnhh-monstarlab-viet-nam/29663.html'} . Mô_tả công_việc Đào_tạo hướng_dẫn thực_tập sinh theo các giai_đoạn sau : • Giai_đoạn 1 : Đào_tạo kiến_thức cơ_bản về lập_trình • Giai_đoạn 2 : Đào_tạo chuyên_sâu về một trong các framework được sử_dụng để xây_dựng và phát_triển các ứng_dụng • Giai_đoạn 3 : Tham_gia vào các dự_án thực_tế của công_ty gồm các công_việc của một thực_tập_sinh trong dự_án Yêu_cầu ứng_viên • Sinh_viên năm cuối hoặc chuẩn_bị tốt_nghiệp chuyên_ngành công_nghệ_thông_tin các trường : Đại_học Bách_Khoa , Học_Viện Bưu_Chính , Đại_học Công_Nghệ_• Có định_hướng và yêu_thích , đam_mê lập_trình • Khả_năng tư_duy , tìm_tòi , học_hỏi nhanh , làm_việc độc_lập , chủ_động trong công_việc Quyền_lợi •_Được làm_việc trong môi_trường chuyên_nghiệp , năng_động , sáng_tạo . • Có cơ_hội được học_hỏi và làm_việc với những con_người năng_động , nhiệt_huyết , giàu kinh_nghiệm . • Có cơ_hội tham_gia các dự_án thực_tế của Công_ty •_Được cung_cấp các kiến_thức và kỹ_năng làm_việc chuyên_nghiệp . • Được trợ_cấp thực_tập theo Level , trợ_cấp ăn trưa , gửi xe . • Có nhiều cơ_hội trở_thành nhân_viên chính_thức của Công_ty . • Xác_nhận và nhận_xét tốt khi hoàn_thành nhiệm_vụ được phân_công khi hướng_dẫn thực_tập . Địa_điểm làm_việc - Hà_Nội : Tầng 4 tháp C tòa nhà Golden_Palace , đường Mễ_Trì , Nam Từ_Liêm Cách_thức ứng_tuyển Ứng_viên nộp hồ_sơ trực_tuyến bằng cách bấm Ứng_tuyển ngay dưới đây . \n",
      "\n",
      "\n",
      "279 0.06864065911336358\n",
      "THỰC_TẬP SINH JAVA\n",
      " . Thực_Tập Sinh Java . Tới 5 triệu . Thực_tập sinh . Không yêu_cầu kinh_nghiệm . 5 người . Toàn thời_gian . Hà_Nội . {'name': 'CÔNG TY TNHH MONSTARLAB VIỆT NAM', 'address': 'Tầng 4 tháp C tòa nhà Golden Palace, đường Mễ Trì, Q.nam Từ Liêm,Hà Nội', 'url': 'https://www.topcv.vn/cong-ty/cong-ty-tnhh-monstarlab-viet-nam/29663.html'} . Mô_tả công_việc • Giai_đoạn 1 : Đào_tạo kiến_thức cơ_bản về lập_trình • Giai_đoạn 2 : Đào_tạo chuyên_sâu về một trong các framework được sử_dụng để xây_dựng và phát_triển các ứng_dụng • Giai_đoạn 3 : Tham_gia vào các dự_án thực_tế của công_ty gồm các công_việc của một thực_tập_sinh trong dự_án : - Phát_triển chức_năng từ đơn_giản đến phức_tạp - Phát_tiển các kỹ_năng làm_việc nhóm , các kỹ_năng trao_đổi và phân_tích yêu_cầu - Được reiview_code bởi các kỹ_sư có kinh_nghiệm giúp phát_triển các kỹ_năng code . Yêu_cầu ứng_viên • Sinh_viên năm cuối hoặc chuẩn_bị tốt_nghiệp đang theo học ngành công_nghệ_thông_tin các trường đại_học Bách_Khoa , Bưu_Chính , ĐH Công_Nghệ . • Có định_hướng và yêu_thích , đam_mê lập_trình • Khả_năng tư_duy , tìm_tòi , học_hỏi nhanh , làm_việc độc_lập , chủ_động trong công_việc Quyền_lợi •_Được làm_việc trong môi_trường chuyên_nghiệp , năng_động , sáng_tạo . • Có cơ_hội được học_hỏi và làm_việc với những con_người năng_động , nhiệt_huyết , giàu kinh_nghiệm . • Có cơ_hội tham_gia các dự_án thực_tế của Công_ty •_Được cung_cấp các kiến_thức và kỹ_năng làm_việc chuyên_nghiệp . • Được trợ_cấp thực_tập theo Level , trợ_cấp ăn trưa , gửi xe . • Có nhiều cơ_hội trở_thành nhân_viên chính_thức của Công_ty . • Xác_nhận và nhận_xét tốt khi hoàn_thành nhiệm_vụ được phân_công khi hướng_dẫn thực_tập . Địa_điểm làm_việc - Hà_Nội : Tầng 4 tháp C tòa nhà Golden_Palace , đường Mễ_Trì , Nam Từ_Liêm Cách_thức ứng_tuyển Ứng_viên nộp hồ_sơ trực_tuyến bằng cách bấm Ứng_tuyển ngay dưới đây . \n",
      "\n",
      "\n",
      "3264 0.06612266100600256\n",
      "BLOCKCHAIN DEVELOPER ( JUNIOR / SENIOR )\n",
      " . Blockchain Developer ( Junior / Senior ) . ₫ 20-45_Tr / Tháng . not found . 1 – 3 năm . not found . Việc_làm fulltime . Quận Tám , Thành_phố Hồ_Chí_Minh . {'name': 'Bacoor Vietnam CO., LTD', 'address': 'Quận Tám, Thành phố Hồ Chí Minh\\xa0 ', 'url': 'https://glints.com/vn/companies/bacoor-vietnam-co-ltd/d48ac872-3187-4643-93ef-25fd5ccaeb2a'} . - Participate in the entire blockchain development lifecycle , from_design and_architecture to implementation using smart contracts . - Write unit tests to ensure the_reliability and_performance of_applications . - Work closely with the project team to deliver new features on schedule . - Stay updated on new blockchain_technologies and_improve workflows for better system performanceRequirements : - Junior : At least 1 year of_experience in smart contract development . - Mid / Senior : At least 2 years of_extensive experience in smart contract development . - Proficiency in Solidity , Typescript . - Experience with development tools like Foundry , Viem , Hardhat , and_Ether . - Solid understanding of_common smart contract attack vectors . - Strong foundation in algorithms , data structures , and_cryptography . - Ability to write_clean , well-documented , and_maintainable code . Nice to_Have : - Familiarity with popular DeFi protocols like Uniswap . - Experience with chain development toolkits such as Arbitrum_Orbit , Polygon_CDK , or Op_Stack . \n",
      "\n",
      "\n",
      "3253 0.06598119846773771\n",
      "SENIOR BLOCKCHAIN BACKEND_DEVELOPER ( SOLIDITY )\n",
      " . Senior Blockchain Backend_Developer ( Solidity ) . ₫ 25-50_Tr / Tháng . not found . 1 – 3 năm . not found . Việc_làm fulltime . Quận Tám , Thành_phố Hồ_Chí_Minh . {'name': 'Bacoor Vietnam CO., LTD', 'address': 'Quận Tám, Thành phố Hồ Chí Minh\\xa0 ', 'url': 'https://glints.com/vn/companies/bacoor-vietnam-co-ltd/d48ac872-3187-4643-93ef-25fd5ccaeb2a'} . What you'll be doing : - Participate in the entire blockchain development lifecycle , from_design and_architecture to implementation using smart contracts . - Write unit tests to ensure the_reliability and_performance of_applications . - Work closely with the project team to deliver new features on schedule . - Stay updated on new blockchain_technologies and_improve workflows for better system performance - Mid / Senior : At least 2 years of_extensive experience in smart contract development . - Proficiency in Solidity , Typescript . - Experience with development tools like Foundry , Viem , Hardhat , and_Ether . - Solid understanding of_common smart contract attack vectors . - Strong foundation in algorithms , data structures , and_cryptography . - Ability to write_clean , well-documented , and_maintainable code . Nice to_Have : - Familiarity with popular DeFi protocols like Uniswap . - Experience with chain development toolkits such as Arbitrum_Orbit , Polygon_CDK , or Op_Stack . \n",
      "\n",
      "\n",
      "810 0.06504992550681485\n",
      "THỰC_TẬP SINH FLUTTER\n",
      " . Thực_Tập Sinh Flutter . Tới 5 triệu . Nhân_viên . Không yêu_cầu kinh_nghiệm . 6 người . Thực_tập . Hà_Nội . {'name': 'CÔNG TY TNHH MONSTARLAB VIỆT NAM', 'address': 'Tầng 4 tháp C tòa nhà Golden Palace, đường Mễ Trì, Q.nam Từ Liêm,Hà Nội', 'url': 'https://www.topcv.vn/cong-ty/cong-ty-tnhh-monstarlab-viet-nam/29663.html'} . Mô_tả công_việc Thực_tập_sinh sẽ được đào_tạo theo các giai_đoạn sau : • Giai_đoạn 1 : Đào_tạo kiến_thức cơ_bản về lập_trình • Giai_đoạn 2 : Đào_tạo chuyên_sâu về một trong các framework được sử_dụng để xây_dựng và phát_triển các ứng_dụng • Giai_đoạn 3 : Tham_gia vào các dự_án thực_tế của công_ty gồm các công_việc của một thực_tập_sinh trong dự_án : + Phát_triển chức_năng từ đơn_giản đến phức_tạp + Phát_tiển các kỹ_năng làm_việc nhóm , các kỹ_năng trao_đổi và phân_tích yêu_cầu + Được reiview_code bởi các kỹ_sư có kinh_nghiệm giúp phát_triển các kỹ_năng code . Yêu_cầu ứng_viên • Sinh_viên năm cuối hoặc chuẩn_bị tốt_nghiệp chuyên_ngành công_nghệ_thông_tin các trường : Đại_học Bách_Khoa , Học_viện Bưu_Chính , Đại_học Công_Nghệ . • Có định_hướng và yêu_thích , đam_mê lập_trình • Khả_năng tư_duy , tìm_tòi , học_hỏi nhanh , làm_việc độc_lập , chủ_động trong công_việc Quyền_lợi •_Được làm_việc trong môi_trường chuyên_nghiệp , năng_động , sáng_tạo . • Có cơ_hội được học_hỏi và làm_việc với những con_người năng_động , nhiệt_huyết , giàu kinh_nghiệm . • Có cơ_hội tham_gia các dự_án thực_tế của Công_ty •_Được cung_cấ p các kiến_thức và kỹ_năng làm_việc chuyên_nghiệp . • Được trợ_cấp thực_tập theo Level , trợ_cấp ăn trưa , gửi xe . • Có nhiều cơ_hội trở_thành nhân_viên chính_thức của Công_ty . • Xác_nhận và nhận_xét tốt khi hoàn_thành nhiệm_vụ được phân_công khi hướng_dẫn thực_tập . Địa_điểm làm_việc - Hà_Nội : Tầng 4 tháp C tòa nhà Golden_Palace , đường Mễ_Trì , Nam Từ_Liêm Cách_thức ứng_tuyển Ứng_viên nộp hồ_sơ trực_tuyến bằng cách bấm Ứng_tuyển ngay dưới đây . \n",
      "\n",
      "\n",
      "808 0.0647151102460605\n",
      "THỰC_TẬP SINH GOLANG\n",
      " . Thực_Tập Sinh Golang . Tới 5 triệu . Thực_tập sinh . Không yêu_cầu kinh_nghiệm . 5 người . Thực_tập . Hà_Nội . {'name': 'CÔNG TY TNHH MONSTARLAB VIỆT NAM', 'address': 'Tầng 4 tháp C tòa nhà Golden Palace, đường Mễ Trì, Q.nam Từ Liêm,Hà Nội', 'url': 'https://www.topcv.vn/cong-ty/cong-ty-tnhh-monstarlab-viet-nam/29663.html'} . Mô_tả công_việc - Chương_trình tuyển_dụng thực_tập sinh_• Giai_đoạn 1 : Đào_tạo kiến_thức cơ_bản về lập_trình • Giai_đoạn 2 : Đào_tạo chuyên_sâu về một trong các framework được sử_dụng để xây_dựng và phát_triển các ứng_dụng • Giai_đoạn 3 : Tham_gia vào các dự_án thực_tế của công_ty gồm các công_việc của một thực_tập_sinh trong dự_án : - Phát_triển chức_năng từ đơn_giản đến phức_tạp - Phát_tiển các kỹ_năng làm_việc nhóm , các kỹ_năng trao_đổi và phân_tích yêu_cầu - Được reiview_code bởi các kỹ_sư có kinh_nghiệm giúp phát_triển các kỹ_năng code Yêu_cầu ứng_viên • Sinh_viên khoa Công_Nghệ_Thông_Tin các trường : Đại_học Bách_Khoa , Học_Viện Bưu_Chính , Đại_học Công_Nghệ_• Có định_hướng và yêu_thích , đam_mê lập_trình • Khả_năng tư_duy , tìm_tòi , học_hỏi nhanh , làm_việc độc_lập , chủ_động trong công_việc Quyền_lợi •_Được làm_việc trong môi_trường chuyên_nghiệp , năng_động , sáng_tạo . • Có cơ_hội được học_hỏi và làm_việc với những con_người năng_động , nhiệt_huyết , giàu kinh_nghiệm . • Có cơ_hội tham_gia các dự_án thực_tế của Công_ty •_Được cung_cấp các kiến_thức và kỹ_năng làm_việc chuyên_nghiệp . • Được trợ_cấp thực_tập theo Level , trợ_cấp ăn trưa , gửi xe . • Có nhiều cơ_hội trở_thành nhân_viên chính_thức của Công_ty . • Xác_nhận và nhận_xét tốt khi hoàn_thành nhiệm_vụ được phân_công khi hướng_dẫn thực_tập . Địa_điểm làm_việc - Hà_Nội : Tầng 4 tháp C tòa nhà Golden_Palace , đường Mễ_Trì , Nam Từ_Liêm Cách_thức ứng_tuyển Ứng_viên nộp hồ_sơ trực_tuyến bằng cách bấm Ứng_tuyển ngay dưới đây . \n",
      "\n",
      "\n",
      "3633 0.06440451953065736\n",
      "PYTHON DEVELOPER ( ERP_DEVELOPER )\n",
      " . Python Developer ( ERP_Developer ) . ₫ 15-40_Tr / Tháng . not found . 1 – 3 năm . not found . Việc_làm fulltime . Quận Tân_Bình , Thành_phố Hồ_Chí_Minh . {'name': 'Kegmil', 'address': 'Quận Tân Bình, Thành phố Hồ Chí Minh\\xa0 ', 'url': 'https://glints.com/vn/companies/kegmil/f6120590-391d-4dd4-9dcf-6971874649d5'} . About UsKegmil is revolutionizing the way mission-critical_facilities and_assets are_repaired and_maintained via complex systems of_people and_processes . We are on a_mission to empower millions of_desk-less field service professionals in Southeast_Asia with_technology and_data to supercharge their operational_efficiency and service performance . Our_cloud-based , mobile-first software intelligently_automates and_optimizes field activities for maintenance heroes who keep our world running across industries from elevator to data center equipment servicing . We are a_curious and_collaborative team that derives_purpose and_joy from putting our customers at the center of our innovation , helping them to_transform and_grow their businesses profitably . Our culture inspires our employees to be their best in an_inclusive and supportive environment . We listen to_and learn from one another , take ownership , and_deliver on our promises with grit , resilience , and_speed to lead the age-old field service industry into the future . Job_Title : Python_Developer ( ERP_Developer ) Location : Remote / HybrydJob Type : [ Full-time_] Experience_Level : Junior_Level : 1 - 2 years of_experience in Python . Mid Level : 3 - 5 years of_experience in Python . Key_Responsibilities : Collaborate closely with stakeholders to understand_app and_feature requirements , proposing robust solutions utilizing_an ERP_framework , with a preference for Frappe / ERPNext . Develop_and customize applications or modules based_on business_needs , primarily focusing on Python-based_solutions . Conduct automated_unit and_functional tests to ensure the system's_reliability and_functionality . Gain a_comprehensive understanding of_the Frappe_framework , with an_emphasis on leveraging existing ERP_knowledge . Create_and distribute detailed_documentation and_knowledge transfer materials . Oversee the management_of system_updates and_upgrades . Facilitate integration with existing SaaS_systems and_manage the transition to Frappe-based_platforms when necessary . Required_Skills : Proficiency in Python and_JavaScript , with practical knowledge of Jinja_templates , MySQL / MariaDB , and_Redis . Proven experience in developing applications , preferably with the Frappe_framework , or a_strong willingness to develop expertise in this area . A_solid understanding of ERP_systems , with specific insights into ERPNext functionalities considered an_advantage . Experience in developing and_managing SaaS_platforms , particularly those supporting multi-tenancy . Good communication skills to effectively articulate technical_concepts and_solutions to both_technical and non-technical stakeholders . Strong_problem-solving and analytical capabilities . Demonstrable experience with ERPNext or similar ERP systems like Odoo / SAP / Business Central_is highly_valued and_should be presented during the interview process . Why Join_Us ? At_Kegmil , you’ll be part of_a team that values_innovation and_collaboration , working together to_transform and_lead the field service industry into a new era . We offer competitive salaries , comprehensive benefits , and_opportunities for_growth and_development in an_engaging , forward-thinking environment . \n",
      "\n",
      "\n",
      "1306 0.06281234668478161\n",
      "THỰC_TẬP SINH TESTER\n",
      " . Thực_Tập Sinh Tester . 1.5 - 5 triệu . Thực_tập sinh . Không yêu_cầu kinh_nghiệm . 5 người . Thực_tập . Hà_Nội . {'name': 'CÔNG TY TNHH MONSTARLAB VIỆT NAM', 'address': 'Tầng 4 tháp C tòa nhà Golden Palace, đường Mễ Trì, Q.nam Từ Liêm,Hà Nội', 'url': 'https://www.topcv.vn/cong-ty/cong-ty-tnhh-monstarlab-viet-nam/29663.html'} . Mô_tả công_việc - Chương_trình tuyển_dụng thực_tập sinh_• Giai_đoạn 1 : Đào_tạo kiến_thức cơ_bản về test_• Giai_đoạn 2 : Đào_tạo chuyên_sâu kỹ_năng test_• Giai_đoạn 3 : Tham_gia vào các dự_án thực_tế của công_ty gồm các công_việc của một thực_tập_sinh trong dự_án : - Phát_triển chức_năng từ đơn_giản đến phức_tạp - Phát_tiển các kỹ_năng làm_việc nhóm , các kỹ_năng trao_đổi và phân_tích yêu_cầu Yêu_cầu ứng_viên • Sinh_viên năm tư đang theo học ngành công_nghệ_thông_tin các trường đại_học : Bách_Khoa , Bưu_Chính Viễn_Thông , Công_Nghệ , Quốc_Gia . • Có định_hướng và yêu_thích , đam_mê lập_trình • Biết code để thực_tập auto test_• Khả_năng tư_duy , tìm_tòi , học_hỏi nhanh , làm_việc độc_lập , chủ_động trong công_việc Quyền_lợi •_Được làm_việc trong môi_trường chuyên_nghiệp , năng_động , sáng_tạo . • Có cơ_hội được học_hỏi và làm_việc với những con_người năng_động , nhiệt_huyết , giàu kinh_nghiệm . • Có cơ_hội tham_gia các dự_án thực_tế của Công_ty •_Được cung_cấp các kiến_thức và kỹ_năng làm_việc chuyên_nghiệp . • Được trợ_cấp thực_tập theo Level , trợ_cấp ăn trưa , gửi xe . • Có nhiều cơ_hội trở_thành nhân_viên chính_thức của Công_ty . • Xác_nhận và nhận_xét tốt khi hoàn_thành nhiệm_vụ được phân_công khi hướng_dẫn thực_tập . Địa_điểm làm_việc - Hà_Nội : Tầng 4 tháp C tòa nhà Golden_Palace , đường Mễ_Trì , Nam Từ_Liêm Cách_thức ứng_tuyển Ứng_viên nộp hồ_sơ trực_tuyến bằng cách bấm Ứng_tuyển ngay dưới đây . \n",
      "\n",
      "\n",
      "359 0.06274312569115606\n",
      "THỰC_TẬP SINH_FRONT - END\n",
      " . Thực_Tập Sinh_Front - End . Tới 5 triệu . Thực_tập sinh . Không yêu_cầu kinh_nghiệm . 10 người . Thực_tập . Hà_Nội . {'name': 'CÔNG TY TNHH MONSTARLAB VIỆT NAM', 'address': 'Tầng 4 tháp C tòa nhà Golden Palace, đường Mễ Trì, Q.nam Từ Liêm,Hà Nội', 'url': 'https://www.topcv.vn/cong-ty/cong-ty-tnhh-monstarlab-viet-nam/29663.html'} . Mô_tả công_việc Thực_tập_sinh sẽ được đào_tạo theo các gia_đoạn sau : • Giai_đoạn 1 : Đào_tạo kiến_thức cơ_bản về lập_trình • Giai_đoạn 2 : Đào_tạo chuyên_sâu về một trong các framework được sử_dụng để xây_dựng và phát_triển các ứng_dụng • Giai_đoạn 3 : Tham_gia vào các dự_án thực_tế của công_ty gồm các công_việc của một thực_tập_sinh trong dự_án : + Phát_triển chức_năng từ đơn_giản đến phức_tạp + Phát_tiển các kỹ_năng làm_việc nhóm , các kỹ_năng trao_đổi và phân_tích yêu_cầu + Được reiview_code bởi các kỹ_sư có kinh_nghiệm giúp phát_triển các kỹ_năng code . Yêu_cầu ứng_viên • Sinh_viên năm cuối các trường ĐH Bách_Khoa , HV Bưu_Chính , Viễn_Thông , ĐH Công_Nghệ , ĐH Khoa_học_tự_nhiên . • Có định_hướng và yêu_thích , đam_mê lập_trình • Khả_năng tư_duy , tìm_tòi , học_hỏi nhanh , làm_việc độc_lập , chủ_động trong công_việc Quyền_lợi •_Được làm_việc trong môi_trường chuyên_nghiệp , năng_động , sáng_tạo . • Có cơ_hội được học_hỏi và làm_việc với những con_người năng_động , nhiệt_huyết , giàu kinh_nghiệm . • Có cơ_hội tham_gia các dự_án thực_tế của Công_ty •_Được cung_cấp các kiến_thức và kỹ_năng làm_việc chuyên_nghiệp . • Được trợ_cấp thực_tập theo Level , trợ_cấp ăn trưa , gửi xe . • Có nhiều cơ_hội trở_thành nhân_viên chính_thức của Công_ty . • Xác_nhận và nhận_xét tốt khi hoàn_thành nhiệm_vụ được phân_công khi hướng_dẫn thực_tập . Địa_điểm làm_việc - Hà_Nội : Tầng 4 tháp C tòa nhà Golden_Palace , đường Mễ_Trì , Nam Từ_Liêm Cách_thức ứng_tuyển Ứng_viên nộp hồ_sơ trực_tuyến bằng cách bấm Ứng_tuyển ngay dưới đây . \n",
      "\n",
      "\n",
      "733 0.06180736957235365\n",
      "NHÂN_VIÊN VẬN_HÀNH ỨNG_DỤNG CHỨNG_KHOÁN\n",
      " . Nhân_Viên Vận_Hành Ứng_Dụng Chứng_Khoán . Thỏa thuận . Nhân_viên . 1 năm . 1 người . Toàn thời_gian . Hà_Nội . {'name': 'VNDIRECT', 'address': 'Số 1 Nguyễn Thượng Hiền', 'url': 'https://www.topcv.vn/cong-ty/vndirect/6887.html'} . Mô_tả công_việc - Vận_hành hệ_thống công_nghệ theo các quy_trình được ban_hành ; - Giám_sát , cảnh_báo và xử_lý sự_cố ở Level 1 ; - Phối_hợp với bộ_phận phát_triển phần_mềm để tìm ra nguyên_nhân và xử_lý một_cách triệt_để ; - Tiếp_nhận yêu_cầu hỗ_trợ từ các bộ_phận : chăm_sóc khách_hàng , vận_hành nghiệp_vụ nhằm hỗ_trợ khách_hàng , bộ_phận kinh_doanh giải_quyết các vấn_đề ; - Hỗ_trợ bộ_phận phát_triển phần_mềm trong việc quản_lý , cài_đặt , vận_hành hệ_thống TEST ; - Tìm_hiểu công_nghệ , quy_trình , nghiệp_vụ chứng_khoán nhằm nâng cao hiệu_quả hỗ_trợ Vận_hành ; - Tìm_hiểu các stack công_nghệ công_ty đang sử_dụng , để hỗ_nâng cao hiệu_quả Vận_hành . Yêu_cầu ứng_viên 1 . Yêu_cầu chung - Tốt_nghiệp Đại_học chuyên_ngành Công_nghệ_thông_tin , Điện_tử viễn_thông hoặc các ngành liên_quan . 2 . Kiến_thức / Năng_lực chuyên_môn / Kỹ_năng - Có khả_năng đọc hiểu tài_liệu chuyên_ngành ; - Có nền_tảng đào_tạo tốt về công_nghệ_thông_tin ; - Yêu_thích lĩnh_vực tài_chính , chứng_khoán , đam_mê công_nghệ_thông_tin , luôn sẵn_sàng học_tập , tiếp_thu kiến_thức mới ; - Có kinh_nghiệm vận_hành ứng_dụng Core_chứng_khoán , lập_trình hay từng làm_việc với các hệ_quản_trị cơ_sở_dữ_liệu là một lợi_thế . Quyền_lợi 1 . Cộng_đồng những người làm nghề chính_trực và dấn_thân phụng sự - Môi_trường làm nghề tài_chính chuyên_nghiệp . - Làm_việc với tinh_thần làm_chủ , sáng_tạo và thách_thức . 2 . Thu_nhập theo năng_lực - Thu_nhập xứng_đáng theo năng_lực và giá_trị đóng_góp . - Nhận lại phần thu_nhập đã khấu_trừ nếu đạt thử việc ( Thời_gian thử việc 2 tháng , hưởng 85 % lương ) ; xem_xét thay_đổi thu_nhập hàng năm . - Tham_gia BHXH , BHYT , BHTN theo đúng quy_định luật lao_động . - Các bảo_hiểm sức_khỏe và bảo_hiểm tai_nạn 24/24 . 3 . Tổ_chức học_tập và văn_hóa sôi_nổi - Không_gian làm_việc mở với trang_thiết_bị hiện_đại . - Các hoạt_động văn_hóa , thiện_nguyện phong_phú và sôi_nổi . Địa_điểm làm_việc - Hà_Nội Cách_thức ứng_tuyển Ứng_viên nộp hồ_sơ trực_tuyến bằng cách bấm Ứng_tuyển ngay dưới đây . \n",
      "\n",
      "\n",
      "807 0.06081226388706705\n",
      "THỰC_TẬP SINH INFRASTRUCTURE\n",
      " . Thực_Tập Sinh Infrastructure . Tới 5 triệu . Thực_tập sinh . Không yêu_cầu kinh_nghiệm . 5 người . Thực_tập . Hà_Nội . {'name': 'CÔNG TY TNHH MONSTARLAB VIỆT NAM', 'address': 'Tầng 4 tháp C tòa nhà Golden Palace, đường Mễ Trì, Q.nam Từ Liêm,Hà Nội', 'url': 'https://www.topcv.vn/cong-ty/cong-ty-tnhh-monstarlab-viet-nam/29663.html'} . Mô_tả công_việc • Giai_đoạn 1 : Đào_tạo kiến_thức cơ_bản • Giai_đoạn 2 : Đào_tạo chuyên_sâu chuyên_môn • Giai_đoạn 3 : Tham_gia vào các dự_án thực_tế của công_ty gồm các công_việc của một thực_tập_sinh trong dự_án : - Phát_triển chức_năng từ đơn_giản đến phức_tạp - Phát_tiển các kỹ_năng làm_việc nhóm , các kỹ_năng trao_đổi và phân_tích yêu_cầu - Được reiview bởi các kỹ_sư có kinh_nghiệm giúp phát_triển các kỹ_năng . Yêu_cầu ứng_viên • Sinh_viên năm cuối hoặc chuẩn_bị tốt_nghiệp chuyên_ngành công_nghệ_thông_tin các trường : ĐH Bách_Khoa , ĐH Công_Nghệ , HV Bưu_Chính , HV Kỹ_Thuật Mật_Mã . • Nếu có kiến_thức develop thì sẽ đào_tạo devOps_• Ngoài_ra chỉ cần đam_mê về cloud , infras_• Khả_năng tư_duy , tìm_tòi , học_hỏi nhanh , làm_việc độc_lập , chủ_động trong công_việc Quyền_lợi •_Được làm_việc trong môi_trường chuyên_nghiệp , năng_động , sáng_tạo . • Có cơ_hội được học_hỏi và làm_việc với những con_người năng_động , nhiệt_huyết , giàu kinh_nghiệm . • Có cơ_hội tham_gia các dự_án thực_tế của Công_ty •_Được cung_cấp các kiến_thức và kỹ_năng làm_việc chuyên_nghiệp . • Được trợ_cấp thực_tập theo Level , trợ_cấp ăn trưa , gửi xe . • Có nhiều cơ_hội trở_thành nhân_viên chính_thức của Công_ty . • Xác_nhận và nhận_xét tốt khi hoàn_thành nhiệm_vụ được phân_công khi hướng_dẫn thực_tập . Địa_điểm làm_việc - Hà_Nội : Tầng 4 tháp C tòa nhà Golden_Palace , đường Mễ_Trì , Nam Từ_Liêm Cách_thức ứng_tuyển Ứng_viên nộp hồ_sơ trực_tuyến bằng cách bấm Ứng_tuyển ngay dưới đây . \n",
      "\n",
      "\n",
      "2432 0.06039192049238224\n",
      "DATA ENGINEER ( MID / SENIOR )\n",
      " . Data Engineer ( Mid / Senior ) . Thỏa thuận . Nhân_viên . 1 năm . 2 người . Toàn thời_gian . Hà_Nội . {'name': 'CÔNG TY CỔ PHẦN CHỨNG KHOÁN DSC', 'address': 'Tầng 2, Thành Công Building, 80 Dịch Vọng Hậu, Quận Cầu Giấy, Thành phố Hà Nội', 'url': 'https://www.topcv.vn/cong-ty/cong-ty-co-phan-chung-khoan-dsc/76436.html'} . Mô_tả công_việc Xây_dựng , phát_triển các hệ_thống lưu_trữ , xử_lý dữ_liệu lớn ( Big_Data ) Xây_dựng các giải_pháp ETL có khả_năng mở_rộng linh_hoạt với độ tin_cậy cao , phục_vụ cho việc khai_thác / ingest các loại dữ_liệu ( cấu_trúc , lưu_lượng , tốc_độ ) từ nhiều nguồn khác nhauXây dựng , phát_triển các công_cụ khai_thác dữ_liệu , quản_trị dữ liệuThiết_kế chi_tiết giải_pháp cho các luồng thu_thập , chuẩn_hóa , làm sạch , làm_giàu , lưu_trữ , xử_lý , phân_tích và hiển_thị dữ_liệu lớnThiết_kế giải_pháp và trực_tiếp phát_triển các module , thư_viện có tính_chất nền_tảng , có khả_năng tái sử_dụng cao , ảnh_hưởng diện rộng Yêu_cầu ứng_viên Trình_độ học vấnTốt_nghiệp cử_nhân / kỹ_sư chuyên_ngành Công_nghệ_thông_tin , Điện_tử viễn_thông , Tài_chính , Ngân_hàng , Kinh_tế hoặc tương_đươngƯu tiên có các chứng_chỉ chuyên_ngành Data_Engineer , Data_Analysis , Data_Sciense cho xử_lý dữ_liệu lớn 2 . Kiến_thức / Chuyên_môn / Kỹ_năng liên_quanTrình độ tiếng anh đọc hiểu tài_liệu chuyên_ngành CNTT , giao_tiếp tốt . Kiến_thức về lập_trình , cấu_trúc dữ_liệu & giải thuậtCó kinh_nghiệm trong việc thiết_kế và xây_dựng data_models , quy_trình ETL và ELT dữ_liệu từ nguồn về DWH , tối_ưu_hóa luồng dữ liệuKiến_thức về lập_trình lưu_trữ , xử_lý dữ_liệu phân_tán , xử_lý dữ_liệu lớn ( Hadoop , Spark , Elastic_Search ... ) Kiến_thức xây_dựng về luồng xử_lý dữ_liệu ( batch processing , stream processing ... ) Kiến_thức về các loại CSDL ( RDBMS , Graph_Databases , NoSQL , .... ) Kỹ_năng sử_dụng các ngôn_ngữ lập_trình ( Java , Scalar , Python , R , SQL. .. ) Kỹ_năng thành_thạo một trong các framework , thư_viện lưu_trữ , xử_lý dữ_liệu lớn ( Hadoop , Spark , Kafka , Zookeeper ... ) Kỹ_năng sử_dụng các CSDL : Oracle , Cassandra , MongoDB , Postgres , SQL_Server Quyền_lợi Làm_việc trong môi_trường tài_chính năng_động , chuyên_nghiệp ; Lương cạnh_tranh , thưởng hấp_dẫn ; Chế_độ bảo_hiểm_xã_hội , teambuilding , du_xuân ... Làm_việc từ thứ 2 đến thứ 6 hàng tuần . Nghỉ_Lễ , Tết theo quy_định . Hỗ_trợ ăn trưa 40 k / suất , gửi xeBảo hiểm_sức khỏe Bảo_Việt cho CBNV và người_thân Địa_điểm làm_việc - Hà_Nội : 80 Dịch_Vọng_Hậu , Cầu_Giấy Thời_gian làm_việc Thứ 2 - Thứ 6 ( từ 08 : 30 đến 17 : 30 ) Cách_thức ứng_tuyển Ứng_viên nộp hồ_sơ trực_tuyến bằng cách bấm Ứng_tuyển ngay dưới đây . \n",
      "\n",
      "\n",
      "2370 0.05989534389598647\n",
      "FULLSTACK DEVELOPER ( DỰ_ÁN BANKING )\n",
      " . Fullstack Developer ( Dự_Án Banking ) . 20 - 30 triệu . Nhân_viên . 2 năm . 4 người . Toàn thời_gian . Hà_Nội . {'name': 'Công ty Cổ phần Giải pháp Công nghệ TTC Việt Nam', 'address': 'Tầng 20, Tòa nhà Charmvit Tower, 117 Trần Duy Hưng, Cầu Giấy, Hà Nội', 'url': 'https://www.topcv.vn/cong-ty/cong-ty-co-phan-giai-phap-cong-nghe-ttc-viet-nam/18143.html'} . Mô_tả công_việc Phát_triển hệ_thống Website cho ứng_dụng OCR , AI & ECM ; Tham_gia vào các công_đoạn : kiến_trúc hệ_thống , thiết_kế chức_năng , lập_trình , unit_test , viết tài_liệu chức_năng , tối_ưu_performance ... ; Lập_trình linh_hoạt trên hệ_thống các ứng_dụng trên nền Java_Core , Java Spring_Boot , Python triển_khai theo hình_thích microservice chạy độc_lập ; Viết_code và Unit_test theo mô_hình phát_triển DevOps_CI / CD ; Tối ưu_performance các xử_lý giải_thuật ; Tham_gia tìm_hiểu các công_nghệ , kỹ_thuật mới ; Yêu_cầu ứng_viên - Tối_thiểu 02 năm kinh_nghiệm làm_việc tại các công_ty , dự_án về lập_trình Fullstack . - Thành_thạo ít_nhất 01 trong các ngôn_ngữ BackEnd ( VD : Java ) và FrontEnd_frameworks ( VD : Angularjs , ReactJS ) . - Thành_thạo ít_nhất 01 trong các loại database : Oracle , SQLserver , PostgreSQL , Mongodb ... - Hiểu_biết về restful , GraqpQL . - Có kinh_nghiệm trong mảng tài_chính ngân_hàng là một lợi_thế . Quyền_lợi 1 . Cơ_hội phát_triển bản_thân – Làm_việc với đội_ngũ kỹ_sư , nhân_viên năng_động , giàu nhiệt_huyết , đam_mê , lý_tưởng lớn . – Được lắng_nghe , tôn_trọng ý_kiến , quan_điểm cá_nhân để trao_đổi thẳng_thắn , chia_sẻ cùng phát_triển . – Được lãnh_đạo giàu kinh_nghiệm đào_tạo , định_hướng con đường nghề_nghiệp rõ_ràng . – Được_cử tham_gia các khóa đào_tạo mới , đào_tạo nâng cao phù_hợp với năng_lực và nguyện_vọng . – Được ghi_nhận những đóng_góp , nỗ_lực kịp_thời , chính_xác . 2 . Chế_độ đãi_ngộ – Mức lương cạnh_tranh theo năng_lực – Phụ_cấp tăng ca , thưởng dự_án , thưởng vượt chỉ_tiêu , thưởng tháng lương thứ 13 , ... – Được công_ty thực_hiện đầy_đủ nghĩa_vụ về bảo_hiểm ; phụ_cấp nhà ở , xăng xe , ăn trưa , thai_sản , con_nhỏ , cưới_hỏi , sinh_nhật , ... – Định_kỳ_xét tăng lương 1 lần / năm hoặc đột_xuất theo đánh_giá . – Được hỗ_trợ các thiết_bị , công_cụ cần_thiết cho thực_hiện công_việc . – Trợ_cấp chứng_chỉ liên_quan đến vị_trí công_việc . 3 . Đời_sống tinh_thần phong_phú – Môi_trường làm_việc chuyên_nghiệp , thân_thiện , cởi_mở . Các thành_viên trong công_ty gần_gũi , gắn_bó , quan_tâm , giúp_đỡ nhau cùng phát_triển . – Được tham_gia các hoạt_động teambuilding hàng tháng , du_lịch hàng năm . – Công_ty luôn động_viên và tạo điều_kiện tốt nhất cho toàn_thể nhân_viên . – Công_ty tổ_chức các buổi sinh_nhật cho nhân_viên hàng tháng , tổ_chức thưởng và kỉ_niệm những ngày lễ_tết trong năm . – Hoạt_động văn_hóa thể_thao đa_dạng : câu_lạc_bộ bóng_đá , gym , bơi_lội , ... Địa_điểm làm_việc - Hà_Nội : 18 Lê_Văn_Lương , Thanh_Xuân , Hà_Nội , Thanh_Xuân Thời_gian làm_việc Thứ 2 - Thứ 6 ( từ 08 : 00 đến 17 : 00 ) Cách_thức ứng_tuyển Ứng_viên nộp hồ_sơ trực_tuyến bằng cách bấm Ứng_tuyển ngay dưới đây . \n",
      "\n",
      "\n",
      "231 0.059371096227971924\n",
      "MID BACK-END_DEVELOPER ( PYTHON )\n",
      " . Mid Back-End_Developer ( Python ) . Thỏa thuận . Nhân_viên . 2 năm . 1 người . Toàn thời_gian . Hồ_Chí_Minh . {'name': 'CÔNG TY TRÁCH NHIỆM HỮU HẠN GIẢI PHÁP TOÀN CẦU IIJ VIỆT NAM', 'address': '2nd floor, Udic Complex Building, Hoang Dao Thuy Street, Trung Hoa Ward, Cau Giay District, Ha Noi, Viet Nam', 'url': 'https://www.topcv.vn/cong-ty/cong-ty-trach-nhiem-huu-han-giai-phap-toan-cau-iij-viet-nam/90226.html'} . Mô_tả công_việc Work with the engineering_team and_make implementation decisions . Design_and develop API , background tasks . Review_code , debug , troubleshoot , and_collaborate to find out the root cause . Develop Portal site related to one the biggest public cloud service in Vietnam . Yêu_cầu ứng_viên At least 2 years ’ experience of_Python developmentHaving experience with RDBMS ( MySQL , MariaDB , Postgres ) & SQLHaving experience of_using Git , DockerHaving experience of_development with Django framework or Flask_framework , Restful_APIHaving knowledge of_OOP , design patterns , data structuresHaving good self-learning skills . Having knowledge of_NumPy , Pandas , Micro-services is an_advantage . Quyền_lợi Dynamic_and flexible environment with positive teammates . Opportunity to study in-depth infrastructure knowledge . Competitive income with 13 th - month salary & Performance bonus up to 1.2_months . Health insurance to protect your health , and_annual health check . There are 1 PAs ( Performance_Appraisal ) per year . Annual company trip , Team_Building ... Working_time : 9 : 00 – 17 : 30 , Monday – Friday . Working location : 87A Ham_Nghi , Nguyen Thai_Binh , Dist . 1 Địa_điểm làm_việc - Hồ_Chí_Minh : 87A Hàm_Nghi , Quận 1 Thời_gian làm_việc Thứ 2 - Thứ 6 ( từ 09 : 00 đến 17 : 30 ) Cách_thức ứng_tuyển Ứng_viên nộp hồ_sơ trực_tuyến bằng cách bấm Ứng_tuyển ngay dưới đây . \n",
      "\n",
      "\n",
      "1980 0.05917983859758726\n",
      "WEB FRONTEND ANGULAR\n",
      " . Web Frontend Angular . 15 - 35 triệu . Nhân_viên . 1 năm . 1 người . Toàn thời_gian . Hà_Nội . {'name': 'TỔNG CÔNG TY CỔ PHẦN BƯU CHÍNH VIETTEL', 'address': 'Tòa Viettel, Km2, Đại lộ Thăng Long, Nam Từ Liêm, Hà Nội', 'url': 'https://www.topcv.vn/cong-ty/tong-cong-ty-co-phan-buu-chinh-viettel/34285.html'} . Mô_tả công_việc Thiết_kế và triển_khai frontend_code của các ứng của các ứng_dụng web đa nền_tảng Javascript bằng cách sử_dụng framework / ngôn_ngữ như AngularXây_dựng hệ_thống điều_khiển cấu_hình IoT , thanh_toán , ví_điện_tử , hệ_thống bản_đồ , ứng_dụng Selfcare , sàn thương_mại_điện_tử , hệ_thống core chuyển phát . Thiết_kế và triển_khai các công_cụ hỗ_trợ theo yêu_cầu . Phối_hợp với team để đẩy_mạnh công_nghệ UI hiện có và tạo trải_nghiệm người dùng tốt nhất cho các hệ_thống hiện_tại . Yêu_cầu ứng_viên Tốt_nghiệp Đại_học trở lên , chuyên_ngành : công_nghệ_thông_tin , khoa_học máy_tính , ... Ưu_tiên ứng_viên tốt_nghiệp các trường Bách_Khoa , Học_viện Bưu_chính , ĐH Công_nghệ-ĐH Quốc_gia Hà_Nội . 2 + năm kinh_nghiệm làm frontend_web bằng AngularCó kinh_nghiệm xây_dựng website sử_dụng HTML , CSS , JavascriptCó kiến_thức về OOP , Design_Patterns , REST_API và những cơ_sở_dữ_liệu như MongoDB , MySQL , Elastic_Search ... Có hiểu_biết về thiết_kế hệ_thống , tối_ưu và nâng cao hiệu_năng , độ ổn_định . Tư_duy mở , sẵn_sàng học và tìm hiêu các công_nghệ mới . Có trách_nhiệm với công_việc . Quyền_lợi Tại Tổng_Công_ty Cổ_phần Bưu_chính Viettel , các ứng_viên sẽ được làm_việc trong môi_trường năng_động , trẻ_trung và chuyên_nghiệp , với các đãi_ngộ hấp_dẫn sau : 1 . Chế_độ về lương_thưởng , thu_nhập - Mức lương từ 15M - 20M đối_với Junior , 20M - 30M đối_với Mid - Senior , 30M + + đối_với Senior - Có chế_độ hỗ_trợ tiền điện_thoại và ăn trưa , nghỉ_mát hàng năm ; kèm theo là các khoản thưởng vào các dịp lễ lớn ( 30/4 , 1/5 , 2/9 , ngày thành_lập Tập_đoàn , Tổng_Công_ty , Tết_Dương / Âm ) 2 . Chương_trình chăm_sóc sức khỏe - Được đóng đầy_đủ về các chế_độ bảo_hiểm_xã_hội , bảo_hiểm_y_tế , bảo_hiểm thất_nghiệp và các gói bảo_hiểm sức khỏe khác . - Hàng năm CBNV được tham_gia khám sức khỏe định_kỳ tại các bệnh_viện lớn . - Phụ_nữ có con_nhỏ dưới 1 tuổi sẽ được nghỉ thêm 1 h / ngày3 . Đào_tạo , phát_triển - Hàng tuần , công_ty tổ_chức buổi Seminar trao_đổi , chia_sẻ về các công_nghệ mới nhất ; là cơ_hội để các thành_viên học_hỏi lẫn nhau . - Được tham_gia các khóa_học bổ_ích từ các diễn_giả Quốc_tế tại Học_viện Viettel - Có cơ_hội thăng_tiến trong nghề_nghiệp . 4 . Hoạt_động tập_thể hấp_dẫn , phong_phú - Tham_gia vào hoạt_động ' Happy_Time \" vào chiều thứ 6 hàng tuần cùng với chương_trình sinh_nhật tháng . - Chương_trình teambuilding , văn_hóa , du_lịch nghỉ_mát hấp_dẫn và đa_dạng . - Các hoạt_động thể_dục thể_thao cùng các giải đấu được Tập_đoàn tổ_chức . Địa_điểm làm_việc - Hà_Nội : Tòa Viettel_Post , Số 2 , Ngõ 15 , Duy_Tân , Dịch_Vọng_Hậu , Cầu_Giấy Cách_thức ứng_tuyển Ứng_viên nộp hồ_sơ trực_tuyến bằng cách bấm Ứng_tuyển ngay dưới đây . \n",
      "\n",
      "\n"
     ]
    }
   ],
   "source": [
    "#tao query moi\n",
    "new_query = \"Fullstack Mid Level\"\n",
    "#xu ly query moi\n",
    "query_vector = process_query(new_query, descCounter, corpus_len)\n",
    "query_vector = np.reshape(query_vector, (1, -1))\n",
    "\n",
    "#seach\n",
    "sim_maxtrix = sklearn.metrics.pairwise.cosine_similarity(query_vector, tfidf_vectors)\n",
    "sim_maxtrix = np.reshape(sim_maxtrix, (-1))\n",
    "\n",
    "#lay cac ket qua co do tuong dong cao\n",
    "idx = (-sim_maxtrix).argsort()[:20]\n",
    "for _id in idx:\n",
    "    print(_id, sim_maxtrix[_id])\n",
    "    print(newItems[_id]['name'].upper())\n",
    "    print(newItems[_id]['desc'], \"\\n\\n\")"
   ]
  }
 ],
 "metadata": {
  "kernelspec": {
   "display_name": "Python 3",
   "language": "python",
   "name": "python3"
  },
  "language_info": {
   "codemirror_mode": {
    "name": "ipython",
    "version": 3
   },
   "file_extension": ".py",
   "mimetype": "text/x-python",
   "name": "python",
   "nbconvert_exporter": "python",
   "pygments_lexer": "ipython3",
   "version": "3.11.9"
  }
 },
 "nbformat": 4,
 "nbformat_minor": 2
}
